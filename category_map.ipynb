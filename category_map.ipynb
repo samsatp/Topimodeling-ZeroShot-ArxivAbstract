{
 "cells": [
  {
   "cell_type": "code",
   "execution_count": 1,
   "source": [
    "from bs4 import BeautifulSoup\r\n",
    "import requests\r\n",
    "\r\n",
    "url = \"https://arxiv.org/category_taxonomy\"\r\n",
    "page = requests.get(url).content\r\n"
   ],
   "outputs": [],
   "metadata": {}
  },
  {
   "cell_type": "code",
   "execution_count": 3,
   "source": [
    "soup = BeautifulSoup(page, 'html.parser')\r\n",
    "h4 = soup.find_all('h4')"
   ],
   "outputs": [],
   "metadata": {}
  },
  {
   "cell_type": "code",
   "execution_count": 17,
   "source": [
    "category = [h4_i.text for h4_i in h4]"
   ],
   "outputs": [],
   "metadata": {}
  },
  {
   "cell_type": "code",
   "execution_count": 18,
   "source": [
    "category = category[1:]\r\n",
    "\r\n",
    "mapping = {}\r\n",
    "\r\n",
    "for cat in category:\r\n",
    "    sep = cat.find(\" (\")\r\n",
    "    abbrv = cat[:sep]\r\n",
    "    full_name = cat[sep+2:]\r\n",
    "    full_name = full_name[:-1]\r\n",
    "    mapping[abbrv] = full_name\r\n"
   ],
   "outputs": [],
   "metadata": {}
  },
  {
   "cell_type": "code",
   "execution_count": 21,
   "source": [
    "import json\r\n",
    "\r\n",
    "json.dump(mapping, open(\"data/mapping.json\",\"w\"))"
   ],
   "outputs": [],
   "metadata": {}
  },
  {
   "cell_type": "code",
   "execution_count": null,
   "source": [],
   "outputs": [],
   "metadata": {}
  }
 ],
 "metadata": {
  "orig_nbformat": 4,
  "language_info": {
   "name": "python",
   "version": "3.8.10",
   "mimetype": "text/x-python",
   "codemirror_mode": {
    "name": "ipython",
    "version": 3
   },
   "pygments_lexer": "ipython3",
   "nbconvert_exporter": "python",
   "file_extension": ".py"
  },
  "kernelspec": {
   "name": "python3",
   "display_name": "Python 3.8.10 64-bit ('venv': venv)"
  },
  "interpreter": {
   "hash": "b688f47bcdb1c0e515b44e89a41b569d8d7da665d0b69b19a13e57fad679b628"
  }
 },
 "nbformat": 4,
 "nbformat_minor": 2
}